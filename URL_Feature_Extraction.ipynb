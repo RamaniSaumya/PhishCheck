{
  "nbformat": 4,
  "nbformat_minor": 0,
  "metadata": {
    "colab": {
      "provenance": []
    },
    "kernelspec": {
      "name": "python3",
      "display_name": "Python 3"
    },
    "accelerator": "GPU"
  },
  "cells": [
    {
      "cell_type": "code",
      "metadata": {
        "id": "PH13wfswmyDv"
      },
      "source": [
        "#importing required packages for this module\n",
        "import pandas as pd"
      ],
      "execution_count": null,
      "outputs": []
    },
    {
      "cell_type": "code",
      "metadata": {
        "id": "S0QorYenhaOD"
      },
      "source": [
        "from urllib.parse import urlparse\n",
        "import re\n",
        "\n",
        "def extract_domain(url):\n",
        "    \"\"\"Extracts the domain from a given URL, removing 'www.' if present.\"\"\"\n",
        "    domain = urlparse(url).netloc\n",
        "    return domain.replace(\"www.\", \"\") if domain.startswith(\"www.\") else domain\n"
      ],
      "execution_count": null,
      "outputs": []
    },
    {
      "cell_type": "code",
      "metadata": {
        "id": "SX-4mbq27QBj"
      },
      "source": [
        "import ipaddress\n",
        "\n",
        "def contains_ip(url):\n",
        "    \"\"\"Checks if the given URL is an IP address.\"\"\"\n",
        "    try:\n",
        "        ipaddress.ip_address(url)\n",
        "        return 1  # URL contains an IP address\n",
        "    except ValueError:\n",
        "        return 0  # URL does not contain an IP address\n"
      ],
      "execution_count": null,
      "outputs": []
    },
    {
      "cell_type": "code",
      "metadata": {
        "id": "XZQZi3K17TcR"
      },
      "source": [
        "def contains_at_symbol(url):\n",
        "    \"\"\"Checks if the given URL contains an '@' symbol.\"\"\"\n",
        "    return 1 if \"@\" in url else 0\n"
      ],
      "execution_count": null,
      "outputs": []
    },
    {
      "cell_type": "code",
      "metadata": {
        "id": "fnQazil39Kra"
      },
      "source": [
        "def categorize_url_length(url):\n",
        "    \"\"\"Categorizes the URL based on its length (short < 54, long ≥ 54).\"\"\"\n",
        "    return 1 if len(url) >= 54 else 0\n"
      ],
      "execution_count": null,
      "outputs": []
    },
    {
      "cell_type": "code",
      "metadata": {
        "id": "yILgNFf_9L3X"
      },
      "source": [
        "from urllib.parse import urlparse\n",
        "\n",
        "def get_url_depth(url):\n",
        "    \"\"\"Counts the number of '/' in the URL path, excluding empty segments.\"\"\"\n",
        "    return sum(1 for segment in urlparse(url).path.split('/') if segment)\n"
      ],
      "execution_count": null,
      "outputs": []
    },
    {
      "cell_type": "code",
      "metadata": {
        "id": "RIJEiq51BSy0"
      },
      "source": [
        "def has_redirection(url):\n",
        "    \"\"\"Checks if the URL contains '//' beyond the protocol (indicating redirection).\"\"\"\n",
        "    return 1 if url.rfind('//') > 7 else 0\n"
      ],
      "execution_count": null,
      "outputs": []
    },
    {
      "cell_type": "code",
      "metadata": {
        "id": "h2vW23O1BbWl"
      },
      "source": [
        "from urllib.parse import urlparse\n",
        "\n",
        "def has_https_in_domain(url):\n",
        "    \"\"\"Checks if 'https' appears in the domain part of the URL.\"\"\"\n",
        "    return 1 if \"https\" in urlparse(url).netloc else 0\n"
      ],
      "execution_count": null,
      "outputs": []
    },
    {
      "cell_type": "code",
      "metadata": {
        "id": "UdC9pUdTAVRU"
      },
      "source": [
        "#listing shortening services\n",
        "shortening_services = r\"bit\\.ly|goo\\.gl|shorte\\.st|go2l\\.ink|x\\.co|ow\\.ly|t\\.co|tinyurl|tr\\.im|is\\.gd|cli\\.gs|\" \\\n",
        "                      r\"yfrog\\.com|migre\\.me|ff\\.im|tiny\\.cc|url4\\.eu|twit\\.ac|su\\.pr|twurl\\.nl|snipurl\\.com|\" \\\n",
        "                      r\"short\\.to|BudURL\\.com|ping\\.fm|post\\.ly|Just\\.as|bkite\\.com|snipr\\.com|fic\\.kr|loopt\\.us|\" \\\n",
        "                      r\"doiop\\.com|short\\.ie|kl\\.am|wp\\.me|rubyurl\\.com|om\\.ly|to\\.ly|bit\\.do|t\\.co|lnkd\\.in|db\\.tt|\" \\\n",
        "                      r\"qr\\.ae|adf\\.ly|goo\\.gl|bitly\\.com|cur\\.lv|tinyurl\\.com|ow\\.ly|bit\\.ly|ity\\.im|q\\.gs|is\\.gd|\" \\\n",
        "                      r\"po\\.st|bc\\.vc|twitthis\\.com|u\\.to|j\\.mp|buzurl\\.com|cutt\\.us|u\\.bb|yourls\\.org|x\\.co|\" \\\n",
        "                      r\"prettylinkpro\\.com|scrnch\\.me|filoops\\.info|vzturl\\.com|qr\\.net|1url\\.com|tweez\\.me|v\\.gd|\" \\\n",
        "                      r\"tr\\.im|link\\.zip\\.net\""
      ],
      "execution_count": null,
      "outputs": []
    },
    {
      "cell_type": "code",
      "metadata": {
        "id": "IUkU9UbbnKpY"
      },
      "source": [
        "import re\n",
        "\n",
        "def is_tiny_url(url, shortening_services):\n",
        "    \"\"\"Checks if the URL belongs to a known shortening service.\"\"\"\n",
        "    return 1 if re.search(shortening_services, url) else 0\n"
      ],
      "execution_count": null,
      "outputs": []
    },
    {
      "cell_type": "code",
      "metadata": {
        "id": "vLyjiIUgPjuw"
      },
      "source": [
        "from urllib.parse import urlparse\n",
        "\n",
        "def has_prefix_suffix(url):\n",
        "    \"\"\"Checks if the domain contains a '-' (which can indicate phishing).\"\"\"\n",
        "    return 1 if \"-\" in urlparse(url).netloc else 0\n"
      ],
      "execution_count": null,
      "outputs": []
    },
    {
      "cell_type": "code",
      "metadata": {
        "id": "NbkEYJ_JOVa7",
        "outputId": "1771d3e9-969a-4914-8ca6-e4912f56be44",
        "colab": {
          "base_uri": "https://localhost:8080/"
        }
      },
      "source": [
        "!pip install python-whois"
      ],
      "execution_count": null,
      "outputs": [
        {
          "output_type": "stream",
          "name": "stdout",
          "text": [
            "Requirement already satisfied: python-whois in /usr/local/lib/python3.11/dist-packages (0.9.5)\n",
            "Requirement already satisfied: python-dateutil in /usr/local/lib/python3.11/dist-packages (from python-whois) (2.8.2)\n",
            "Requirement already satisfied: six>=1.5 in /usr/local/lib/python3.11/dist-packages (from python-dateutil->python-whois) (1.17.0)\n"
          ]
        }
      ]
    },
    {
      "cell_type": "code",
      "metadata": {
        "id": "esZ7FcvlOMZu"
      },
      "source": [
        "# importing required packages for this section\n",
        "import re\n",
        "from bs4 import BeautifulSoup\n",
        "import whois\n",
        "import urllib\n",
        "import urllib.request\n",
        "from datetime import datetime"
      ],
      "execution_count": null,
      "outputs": []
    },
    {
      "cell_type": "code",
      "metadata": {
        "id": "8O5D1jH0IDgf"
      },
      "source": [
        "# 11.DNS Record availability (DNS_Record)\n",
        "# obtained in the featureExtraction function itself"
      ],
      "execution_count": null,
      "outputs": []
    },
    {
      "cell_type": "code",
      "metadata": {
        "id": "li03hqJgH__j"
      },
      "source": [
        "from datetime import datetime\n",
        "\n",
        "def get_domain_age(domain_name):\n",
        "    \"\"\"Calculates the age of a domain based on its creation and expiration dates.\"\"\"\n",
        "\n",
        "    creation_date = domain_name.creation_date\n",
        "    expiration_date = domain_name.expiration_date\n",
        "\n",
        "    # Handle cases where dates might be strings\n",
        "    if isinstance(creation_date, str) or isinstance(expiration_date, str):\n",
        "        try:\n",
        "            creation_date = datetime.strptime(creation_date, \"%Y-%m-%d\")\n",
        "            expiration_date = datetime.strptime(expiration_date, \"%Y-%m-%d\")\n",
        "        except ValueError:\n",
        "            return 1  # Invalid date format\n",
        "\n",
        "    # Handle missing or list-type dates\n",
        "    if not creation_date or not expiration_date or isinstance(creation_date, list) or isinstance(expiration_date, list):\n",
        "        return 1  # Considered phishing if domain details are unclear\n",
        "\n",
        "    # Calculate the domain's age in months\n",
        "    domain_age_in_months = (expiration_date - creation_date).days / 30\n",
        "\n",
        "    return 1 if domain_age_in_months < 6 else 0  # Phishing if domain age < 6 months\n"
      ],
      "execution_count": null,
      "outputs": []
    },
    {
      "cell_type": "code",
      "metadata": {
        "id": "NueO81-ttKYd"
      },
      "source": [
        "from datetime import datetime\n",
        "\n",
        "def get_domain_end_time(domain_name):\n",
        "    \"\"\"Calculates the remaining time until domain expiration.\"\"\"\n",
        "\n",
        "    expiration_date = domain_name.expiration_date\n",
        "\n",
        "    # Handle cases where the expiration date is a string\n",
        "    if isinstance(expiration_date, str):\n",
        "        try:\n",
        "            expiration_date = datetime.strptime(expiration_date, \"%Y-%m-%d\")\n",
        "        except ValueError:\n",
        "            return 1  # Considered phishing if date format is invalid\n",
        "\n",
        "    # Handle missing or list-type expiration dates\n",
        "    if not expiration_date or isinstance(expiration_date, list):\n",
        "        return 1  # Phishing indicator if expiration details are unclear\n",
        "\n",
        "    # Calculate time remaining until expiration in months\n",
        "    remaining_months = (expiration_date - datetime.now()).days / 30\n",
        "\n",
        "    return 0 if remaining_months < 6 else 1  # Phishing if domain expires in <6 months\n"
      ],
      "execution_count": null,
      "outputs": []
    },
    {
      "cell_type": "code",
      "metadata": {
        "id": "lw0JmOGEQPwb"
      },
      "source": [
        "\n",
        "import requests"
      ],
      "execution_count": null,
      "outputs": []
    },
    {
      "cell_type": "code",
      "metadata": {
        "id": "F2gpZEMSQGpu"
      },
      "source": [
        "import re\n",
        "\n",
        "def has_iframe_redirection(response):\n",
        "    \"\"\"Checks if an iFrame is present in the response (possible redirection).\"\"\"\n",
        "\n",
        "    if not response:\n",
        "        return 1  # Phishing indicator if response is empty\n",
        "\n",
        "    return 0 if re.search(r\"<iframe|frameBorder\", response.text, re.IGNORECASE) else 1\n"
      ],
      "execution_count": null,
      "outputs": []
    },
    {
      "cell_type": "code",
      "metadata": {
        "id": "eapOq2afVGCF"
      },
      "source": [
        "import re\n",
        "\n",
        "def has_mouse_over_event(response):\n",
        "    \"\"\"Checks if an 'onmouseover' event is present in the response (possible phishing attempt).\"\"\"\n",
        "\n",
        "    if not response:\n",
        "        return 1  # Phishing indicator if response is empty\n",
        "\n",
        "    return 1 if re.search(r\"<script>.*onmouseover.*</script>\", response.text, re.IGNORECASE) else 0\n"
      ],
      "execution_count": null,
      "outputs": []
    },
    {
      "cell_type": "code",
      "metadata": {
        "id": "9x3lR3lFIVj2"
      },
      "source": [
        "import re\n",
        "\n",
        "def has_right_click_disabled(response):\n",
        "    \"\"\"Checks if right-click is disabled using JavaScript (possible phishing indicator).\"\"\"\n",
        "\n",
        "    if not response:\n",
        "        return 1  # Phishing indicator if response is empty\n",
        "\n",
        "    return 0 if re.search(r\"event\\.button\\s*==\\s*2\", response.text) else 1\n"
      ],
      "execution_count": null,
      "outputs": []
    },
    {
      "cell_type": "code",
      "metadata": {
        "id": "GkpLyDIpKK0W"
      },
      "source": [
        "def has_multiple_forwardings(response):\n",
        "    \"\"\"Checks if the website has excessive redirects (possible phishing indicator).\"\"\"\n",
        "\n",
        "    if not response:\n",
        "        return 1  # Phishing indicator if response is empty\n",
        "\n",
        "    return 1 if len(response.history) > 2 else 0\n"
      ],
      "execution_count": null,
      "outputs": []
    },
    {
      "cell_type": "code",
      "metadata": {
        "id": "8GzyvCg2rzWU"
      },
      "source": [
        "#Function to extract features\n",
        "def featureExtraction(url):\n",
        "\n",
        "  features = []\n",
        "  #Address bar based features (10)\n",
        "  features.append(getDomain(url))\n",
        "  features.append(havingIP(url))\n",
        "  features.append(haveAtSign(url))\n",
        "  features.append(getLength(url))\n",
        "  features.append(getDepth(url))\n",
        "  features.append(redirection(url))\n",
        "  features.append(httpDomain(url))\n",
        "  features.append(tinyURL(url))\n",
        "  features.append(prefixSuffix(url))\n",
        "\n",
        "  #Domain based features (4)\n",
        "  dns = 0\n",
        "  try:\n",
        "    domain_name = whois.whois(urlparse(url).netloc)\n",
        "  except:\n",
        "    dns = 1\n",
        "\n",
        "  features.append(dns)\n",
        "  features.append(1 if dns == 1 else domainAge(domain_name))\n",
        "  features.append(1 if dns == 1 else domainEnd(domain_name))\n",
        "\n",
        "  # HTML & Javascript based features (4)\n",
        "  try:\n",
        "    response = requests.get(url)\n",
        "  except:\n",
        "    response = \"\"\n",
        "  features.append(iframe(response))\n",
        "  features.append(mouseOver(response))\n",
        "  features.append(rightClick(response))\n",
        "  features.append(forwarding(response))\n",
        "\n",
        "  return features"
      ],
      "execution_count": null,
      "outputs": []
    },
    {
      "cell_type": "code",
      "metadata": {
        "id": "BKNg26HEP5kN",
        "colab": {
          "base_uri": "https://localhost:8080/"
        },
        "outputId": "44a7dee7-9f3a-49e9-9906-6693e16376c0"
      },
      "source": [
        "#Extracting the feautres & storing them in a list\n",
        "legi_features = []\n",
        "label = 0\n",
        "url=\"\"\n",
        "\n",
        "legi_features = featureExtraction(url)\n",
        "\n",
        "legi_features1 = legi_features[1:]\n",
        "\n",
        "print(\"Extracted Features:\", legi_features1)\n",
        "\n"
      ],
      "execution_count": null,
      "outputs": [
        {
          "output_type": "stream",
          "name": "stdout",
          "text": [
            "Extracted Features: [0, 0, 1, 2, 0, 0, 0, 0, 0, 1, 1, 0, 0, 1, 0]\n"
          ]
        }
      ]
    },
    {
      "cell_type": "code",
      "metadata": {
        "id": "DSuxYREMi0fr",
        "outputId": "610216aa-804e-4070-cee5-9062f1a36a5d",
        "colab": {
          "base_uri": "https://localhost:8080/"
        }
      },
      "source": [
        "import pandas as pd\n",
        "\n",
        "# Feature names\n",
        "feature_names = ['Have_IP', 'Have_At', 'URL_Length', 'URL_Depth', 'Redirection',\n",
        "                 'https_Domain', 'TinyURL', 'Prefix/Suffix', 'DNS_Record',\n",
        "                 'Domain_Age', 'Domain_End', 'iFrame', 'Mouse_Over', 'Right_Click', 'Web_Forwards']\n",
        "\n",
        "# Ensure features are in the correct format\n",
        "legi_features1 = legi_features[1:]\n",
        "feat = pd.DataFrame([legi_features1], columns=feature_names)\n",
        "\n",
        "# Display the dataframe\n",
        "feat.head()\n",
        "feat.columns\n",
        "\n",
        "print(feat)\n"
      ],
      "execution_count": null,
      "outputs": [
        {
          "output_type": "stream",
          "name": "stdout",
          "text": [
            "   Have_IP  Have_At  URL_Length  URL_Depth  Redirection  https_Domain  \\\n",
            "0        0        0           1          2            0             0   \n",
            "\n",
            "   TinyURL  Prefix/Suffix  DNS_Record  Domain_Age  Domain_End  iFrame  \\\n",
            "0        0              0           0           1           1       0   \n",
            "\n",
            "   Mouse_Over  Right_Click  Web_Forwards  \n",
            "0           0            1             0  \n"
          ]
        }
      ]
    }
  ]
}